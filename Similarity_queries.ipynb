{
  "nbformat": 4,
  "nbformat_minor": 0,
  "metadata": {
    "colab": {
      "name": "Similarity queries.ipynb",
      "version": "0.3.2",
      "views": {},
      "default_view": {},
      "provenance": [],
      "collapsed_sections": []
    },
    "kernelspec": {
      "display_name": "Python 3",
      "language": "python",
      "name": "python3"
    }
  },
  "cells": [
    {
      "metadata": {
        "id": "YJsHeoSNKVQf",
        "colab_type": "text"
      },
      "cell_type": "markdown",
      "source": [
        "# Similarity Queries"
      ]
    },
    {
      "metadata": {
        "id": "S60sV42YKVQg",
        "colab_type": "text"
      },
      "cell_type": "markdown",
      "source": [
        "Don't forget to set:"
      ]
    },
    {
      "metadata": {
        "id": "NVATwpapKVQi",
        "colab_type": "code",
        "colab": {
          "autoexec": {
            "startup": false,
            "wait_interval": 0
          }
        }
      },
      "cell_type": "code",
      "source": [
        "import logging\n",
        "logging.basicConfig(format='%(asctime)s : %(levelname)s : %(message)s', level=logging.INFO)"
      ],
      "execution_count": 0,
      "outputs": []
    },
    {
      "metadata": {
        "id": "XIYlt8RjKVQl",
        "colab_type": "code",
        "colab": {
          "autoexec": {
            "startup": false,
            "wait_interval": 0
          },
          "base_uri": "https://localhost:8080/",
          "height": 34
        },
        "outputId": "b8be4108-2da8-4a38-d49d-9f9acc851e0f",
        "executionInfo": {
          "status": "ok",
          "timestamp": 1526110592561,
          "user_tz": -330,
          "elapsed": 718,
          "user": {
            "displayName": "Rony Roy",
            "photoUrl": "https://lh3.googleusercontent.com/a/default-user=s128",
            "userId": "111772801988052207421"
          }
        }
      },
      "cell_type": "code",
      "source": [
        "import os\n",
        "import tempfile\n",
        "TEMP_FOLDER = tempfile.gettempdir()\n",
        "print('Folder \"{}\" will be used to save temporary dictionary and corpus.'.format(TEMP_FOLDER))"
      ],
      "execution_count": 2,
      "outputs": [
        {
          "output_type": "stream",
          "text": [
            "Folder \"/tmp\" will be used to save temporary dictionary and corpus.\n"
          ],
          "name": "stdout"
        }
      ]
    },
    {
      "metadata": {
        "id": "O2bPzMZPKVQr",
        "colab_type": "text"
      },
      "cell_type": "markdown",
      "source": [
        "## Similarity Interface"
      ]
    },
    {
      "metadata": {
        "id": "2wBq2ekFKVQs",
        "colab_type": "text"
      },
      "cell_type": "markdown",
      "source": [
        "In the previous tutorials on [Corpora and Vector Space](Corpora_and_Vector_Spaces.ipynb) and [Topics and Transformations](Topics_and_Transformations.ipynb),  \n",
        "we covered what it means to create a corpus in the Vector Space Model and how to transform it between different vector spaces.   \n",
        "A common reason for such a charade is that we want to determine   \n",
        "**similarity between pairs of documents**, or the **similarity between a specific document** and a set of other documents   \n",
        "(such as a user query vs. indexed documents).\n",
        "\n",
        "To show how this can be done in gensim, let us consider the same corpus as in the previous examples (which really originally comes from Deerwester et al.’s [“Indexing by Latent Semantic Analysis”](http://www.cs.bham.ac.uk/~pxt/IDA/lsa_ind.pdf) seminal 1990 article):"
      ]
    },
    {
      "metadata": {
        "id": "99kvPqB6KVQt",
        "colab_type": "code",
        "colab": {
          "autoexec": {
            "startup": false,
            "wait_interval": 0
          },
          "base_uri": "https://localhost:8080/",
          "height": 134
        },
        "outputId": "c1d943dd-9547-4bfa-b168-36e35ffc919f",
        "executionInfo": {
          "status": "ok",
          "timestamp": 1526110670111,
          "user_tz": -330,
          "elapsed": 1803,
          "user": {
            "displayName": "Rony Roy",
            "photoUrl": "https://lh3.googleusercontent.com/a/default-user=s128",
            "userId": "111772801988052207421"
          }
        }
      },
      "cell_type": "code",
      "source": [
        "from gensim import corpora, models, similarities\n",
        "\n",
        "dictionary = corpora.Dictionary.load(os.path.join(TEMP_FOLDER, 'deerwester.dict'))\n",
        "corpus = corpora.MmCorpus(os.path.join(TEMP_FOLDER, 'deerwester.mm')) # comes from the first tutorial, \"Corpora and Vector Space\"\n",
        "print(corpus)"
      ],
      "execution_count": 3,
      "outputs": [
        {
          "output_type": "stream",
          "text": [
            "2018-05-12 07:37:58,319 : INFO : 'pattern' package found; tag filters are available for English\n",
            "2018-05-12 07:37:58,324 : INFO : loading Dictionary object from /tmp/deerwester.dict\n",
            "2018-05-12 07:37:58,328 : INFO : loaded /tmp/deerwester.dict\n",
            "2018-05-12 07:37:58,330 : INFO : loaded corpus index from /tmp/deerwester.mm.index\n",
            "2018-05-12 07:37:58,333 : INFO : initializing cython corpus reader from /tmp/deerwester.mm\n",
            "2018-05-12 07:37:58,337 : INFO : accepted corpus with 9 documents, 12 features, 28 non-zero entries\n"
          ],
          "name": "stderr"
        },
        {
          "output_type": "stream",
          "text": [
            "MmCorpus(9 documents, 12 features, 28 non-zero entries)\n"
          ],
          "name": "stdout"
        }
      ]
    },
    {
      "metadata": {
        "id": "NoEe1RN4KVQx",
        "colab_type": "text"
      },
      "cell_type": "markdown",
      "source": [
        "To follow Deerwester’s example, we first use this tiny corpus to define a 2-dimensional LSI space:  \n",
        "afain 2 dimensions.. because the number of topics is 2..."
      ]
    },
    {
      "metadata": {
        "id": "AsZYTnKWKVQy",
        "colab_type": "code",
        "colab": {
          "autoexec": {
            "startup": false,
            "wait_interval": 0
          },
          "base_uri": "https://localhost:8080/",
          "height": 238
        },
        "outputId": "0c59ccb6-e1b5-44a7-9d81-0913d102a004",
        "executionInfo": {
          "status": "ok",
          "timestamp": 1526110676172,
          "user_tz": -330,
          "elapsed": 916,
          "user": {
            "displayName": "Rony Roy",
            "photoUrl": "https://lh3.googleusercontent.com/a/default-user=s128",
            "userId": "111772801988052207421"
          }
        }
      },
      "cell_type": "code",
      "source": [
        "lsi = models.LsiModel(corpus, id2word=dictionary, num_topics=2)"
      ],
      "execution_count": 4,
      "outputs": [
        {
          "output_type": "stream",
          "text": [
            "2018-05-12 07:38:04,876 : INFO : using serial LSI version on this node\n",
            "2018-05-12 07:38:04,878 : INFO : updating model with new documents\n",
            "2018-05-12 07:38:04,880 : INFO : preparing a new chunk of documents\n",
            "2018-05-12 07:38:04,882 : INFO : using 100 extra samples and 2 power iterations\n",
            "2018-05-12 07:38:04,883 : INFO : 1st phase: constructing (12, 102) action matrix\n",
            "2018-05-12 07:38:04,885 : INFO : orthonormalizing (12, 102) action matrix\n",
            "2018-05-12 07:38:04,887 : INFO : 2nd phase: running dense svd on (12, 9) matrix\n",
            "2018-05-12 07:38:04,890 : INFO : computing the final decomposition\n",
            "2018-05-12 07:38:04,891 : INFO : keeping 2 factors (discarding 43.156% of energy spectrum)\n",
            "2018-05-12 07:38:04,892 : INFO : processed documents up to #9\n",
            "2018-05-12 07:38:04,895 : INFO : topic #0(3.341): 0.644*\"system\" + 0.404*\"user\" + 0.301*\"eps\" + 0.265*\"response\" + 0.265*\"time\" + 0.240*\"computer\" + 0.221*\"human\" + 0.206*\"survey\" + 0.198*\"interface\" + 0.036*\"graph\"\n",
            "2018-05-12 07:38:04,896 : INFO : topic #1(2.542): 0.623*\"graph\" + 0.490*\"trees\" + 0.451*\"minors\" + 0.274*\"survey\" + -0.167*\"system\" + -0.141*\"eps\" + -0.113*\"human\" + 0.107*\"response\" + 0.107*\"time\" + -0.072*\"interface\"\n"
          ],
          "name": "stderr"
        }
      ]
    },
    {
      "metadata": {
        "id": "0NoKlwlVKVQ4",
        "colab_type": "text"
      },
      "cell_type": "markdown",
      "source": [
        "Now suppose a user typed in the query *“Human computer interaction”*.   \n",
        "We would like to sort our nine corpus documents in decreasing order of relevance to this query.   \n",
        "Unlike modern search engines, here we only concentrate on a single aspect of possible similarities—on apparent semantic relatedness of their texts (words).   \n",
        "No hyperlinks, no random-walk static ranks, just a semantic extension over the boolean keyword match:"
      ]
    },
    {
      "metadata": {
        "id": "uKLI_nRMKVQ5",
        "colab_type": "code",
        "colab": {
          "autoexec": {
            "startup": false,
            "wait_interval": 0
          },
          "base_uri": "https://localhost:8080/",
          "height": 34
        },
        "outputId": "f80f62a5-1f8c-492d-fcc5-bf33bf4722d9",
        "executionInfo": {
          "status": "ok",
          "timestamp": 1526110699334,
          "user_tz": -330,
          "elapsed": 924,
          "user": {
            "displayName": "Rony Roy",
            "photoUrl": "https://lh3.googleusercontent.com/a/default-user=s128",
            "userId": "111772801988052207421"
          }
        }
      },
      "cell_type": "code",
      "source": [
        "doc = \"Human computer interaction\"\n",
        "vec_bow = dictionary.doc2bow(doc.lower().split())\n",
        "vec_lsi = lsi[vec_bow] # convert the query to LSI space\n",
        "print(vec_lsi)"
      ],
      "execution_count": 5,
      "outputs": [
        {
          "output_type": "stream",
          "text": [
            "[(0, 0.461821004532715), (1, -0.07002766527899955)]\n"
          ],
          "name": "stdout"
        }
      ]
    },
    {
      "metadata": {
        "id": "wpIXsVXeKVQ-",
        "colab_type": "text"
      },
      "cell_type": "markdown",
      "source": [
        "In addition, we will be considering [cosine](http://en.wikipedia.org/wiki/Cosine_similarity) similarity to determine the similarity of two vectors.  \n",
        "Cosine similarity is a standard measure in Vector Space Modeling, but wherever the vectors represent probability distributions, [different similarity measures](http://en.wikipedia.org/wiki/Kullback%E2%80%93Leibler_divergence#Symmetrised_divergence) may be more appropriate."
      ]
    },
    {
      "metadata": {
        "id": "IvzgxssCKVRC",
        "colab_type": "text"
      },
      "cell_type": "markdown",
      "source": [
        "### Initializing query structures"
      ]
    },
    {
      "metadata": {
        "id": "PlQidbgBKVRD",
        "colab_type": "text"
      },
      "cell_type": "markdown",
      "source": [
        "To prepare for similarity queries, we need to enter all documents which we want to compare against subsequent queries. In our case, they are the same nine documents used for training LSI, converted to 2-D LSA space. But that’s only incidental, we might also be indexing a different corpus altogether."
      ]
    },
    {
      "metadata": {
        "id": "J-PbvDdAKVRF",
        "colab_type": "code",
        "colab": {
          "autoexec": {
            "startup": false,
            "wait_interval": 0
          },
          "base_uri": "https://localhost:8080/",
          "height": 50
        },
        "outputId": "7e2355f8-a642-4a20-e036-62ac97366ec5",
        "executionInfo": {
          "status": "ok",
          "timestamp": 1526110894087,
          "user_tz": -330,
          "elapsed": 1145,
          "user": {
            "displayName": "Rony Roy",
            "photoUrl": "https://lh3.googleusercontent.com/a/default-user=s128",
            "userId": "111772801988052207421"
          }
        }
      },
      "cell_type": "code",
      "source": [
        "index = similarities.MatrixSimilarity(lsi[corpus]) # transform corpus to LSI space and index it"
      ],
      "execution_count": 6,
      "outputs": [
        {
          "output_type": "stream",
          "text": [
            "2018-05-12 07:41:42,587 : WARNING : scanning corpus to determine the number of features (consider setting `num_features` explicitly)\n",
            "2018-05-12 07:41:42,589 : INFO : creating matrix with 9 documents and 2 features\n"
          ],
          "name": "stderr"
        }
      ]
    },
    {
      "metadata": {
        "id": "UDmZjqikKVRL",
        "colab_type": "text"
      },
      "cell_type": "markdown",
      "source": [
        "> <B>Warning</B>:\n",
        "> The class `similarities.MatrixSimilarity` is only appropriate when the whole set of vectors fits into memory. For example, a corpus of one million documents would require 2GB of RAM in a 256-dimensional LSI space, when used with this class.  \n",
        "> Without 2GB of free RAM, you would need to use the `similarities.Similarity` class. This class operates in fixed memory, by splitting the index across multiple files on disk, called shards. It uses `similarities.MatrixSimilarity` and `similarities.SparseMatrixSimilarity` internally, so it is still fast, although slightly more complex.\n",
        "\n",
        "Index persistency is handled via the standard save() and load() functions:"
      ]
    },
    {
      "metadata": {
        "id": "L9UM6uv8KVRN",
        "colab_type": "code",
        "colab": {
          "autoexec": {
            "startup": false,
            "wait_interval": 0
          },
          "base_uri": "https://localhost:8080/",
          "height": 50
        },
        "outputId": "ac0c5612-b84c-46ab-b04a-f80fd71f6609",
        "executionInfo": {
          "status": "ok",
          "timestamp": 1526110949519,
          "user_tz": -330,
          "elapsed": 595,
          "user": {
            "displayName": "Rony Roy",
            "photoUrl": "https://lh3.googleusercontent.com/a/default-user=s128",
            "userId": "111772801988052207421"
          }
        }
      },
      "cell_type": "code",
      "source": [
        "index.save(os.path.join(TEMP_FOLDER, 'deerwester.index'))\n",
        "#index = similarities.MatrixSimilarity.load(os.path.join(TEMP_FOLDER, 'index'))"
      ],
      "execution_count": 7,
      "outputs": [
        {
          "output_type": "stream",
          "text": [
            "2018-05-12 07:42:38,548 : INFO : saving MatrixSimilarity object under /tmp/deerwester.index, separately None\n",
            "2018-05-12 07:42:38,551 : INFO : saved /tmp/deerwester.index\n"
          ],
          "name": "stderr"
        }
      ]
    },
    {
      "metadata": {
        "id": "ri9Oka9zKVRT",
        "colab_type": "text"
      },
      "cell_type": "markdown",
      "source": [
        "This is true for all similarity indexing classes (`similarities.Similarity`, `similarities.MatrixSimilarity` and `similarities.SparseMatrixSimilarity`). Also in the following, index can be an object of any of these. When in doubt, use `similarities.Similarity`, as it is the most scalable version, and it also supports adding more documents to the index later."
      ]
    },
    {
      "metadata": {
        "id": "8JQIjvO7KVRV",
        "colab_type": "text"
      },
      "cell_type": "markdown",
      "source": [
        "### Performing queries"
      ]
    },
    {
      "metadata": {
        "id": "MFM5YU0OKVRV",
        "colab_type": "text"
      },
      "cell_type": "markdown",
      "source": [
        "To obtain similarities of our query document against the nine indexed documents:"
      ]
    },
    {
      "metadata": {
        "id": "UkXYegOuKVRW",
        "colab_type": "code",
        "colab": {
          "autoexec": {
            "startup": false,
            "wait_interval": 0
          },
          "base_uri": "https://localhost:8080/",
          "height": 34
        },
        "outputId": "7b25ba79-67ad-4e51-9d48-5da6f9040286",
        "executionInfo": {
          "status": "ok",
          "timestamp": 1526111069083,
          "user_tz": -330,
          "elapsed": 591,
          "user": {
            "displayName": "Rony Roy",
            "photoUrl": "https://lh3.googleusercontent.com/a/default-user=s128",
            "userId": "111772801988052207421"
          }
        }
      },
      "cell_type": "code",
      "source": [
        "sims = index[vec_lsi] # perform a similarity query against the corpus\n",
        "print(list(enumerate(sims))) # print (document_number, document_similarity) 2-tuples"
      ],
      "execution_count": 8,
      "outputs": [
        {
          "output_type": "stream",
          "text": [
            "[(0, 0.998093), (1, 0.93748635), (2, 0.9984453), (3, 0.9865886), (4, 0.90755945), (5, -0.12416792), (6, -0.10639259), (7, -0.09879464), (8, 0.050041765)]\n"
          ],
          "name": "stdout"
        }
      ]
    },
    {
      "metadata": {
        "id": "bYb4z6uLT6Xg",
        "colab_type": "code",
        "colab": {
          "autoexec": {
            "startup": false,
            "wait_interval": 0
          },
          "base_uri": "https://localhost:8080/",
          "height": 34
        },
        "outputId": "77bf6c41-df52-4f46-8e6b-a922097237ea",
        "executionInfo": {
          "status": "ok",
          "timestamp": 1526111124890,
          "user_tz": -330,
          "elapsed": 981,
          "user": {
            "displayName": "Rony Roy",
            "photoUrl": "https://lh3.googleusercontent.com/a/default-user=s128",
            "userId": "111772801988052207421"
          }
        }
      },
      "cell_type": "code",
      "source": [
        "type(sims)"
      ],
      "execution_count": 9,
      "outputs": [
        {
          "output_type": "execute_result",
          "data": {
            "text/plain": [
              "numpy.ndarray"
            ]
          },
          "metadata": {
            "tags": []
          },
          "execution_count": 9
        }
      ]
    },
    {
      "metadata": {
        "id": "_NZXn1RyKVRc",
        "colab_type": "text"
      },
      "cell_type": "markdown",
      "source": [
        "Cosine measure returns similarities in the range *<-1, 1>* (the greater, the more similar), so that the first document has a score of 0.99809301 etc.\n",
        "\n",
        "With some standard Python magic we sort these similarities into descending order, and obtain the final answer to the query *“Human computer interaction”*:\n",
        "\n",
        "```\n",
        "sims = sorted(enumerate(sims), key=lambda item: -item[1])\n",
        "print(sims) # print sorted (document number, similarity score) 2-tuples\n",
        "\n",
        "[(2, 0.99844527), # The EPS user interface management system\n",
        "(0, 0.99809301), # Human machine interface for lab abc computer applications\n",
        "(3, 0.9865886), # System and human system engineering testing of EPS\n",
        "(1, 0.93748635), # A survey of user opinion of computer system response time\n",
        "(4, 0.90755945), # Relation of user perceived response time to error measurement\n",
        "(8, 0.050041795), # Graph minors A survey\n",
        "(7, -0.098794639), # Graph minors IV Widths of trees and well quasi ordering\n",
        "(6, -0.1063926), # The intersection graph of paths in trees\n",
        "(5, -0.12416792)] # The generation of random binary unordered trees\n",
        "```\n",
        "\n",
        "(I added the original documents in their “string form” to the output comments, to improve clarity.)\n",
        "\n",
        "The thing to note here is that documents no. 2 (\"`The EPS user interface management system`\") and 4 (\"`Relation of user perceived response time to error measurement`\") would never be returned by a standard boolean fulltext search, because they do not share any common words with \"`Human computer interaction`\". However, after applying LSI, we can observe that both of them received quite high similarity scores (no. 2 is actually the most similar!), which corresponds better to our intuition of them sharing a “computer-human” related topic with the query. In fact, this semantic generalization is the reason why we apply transformations and do topic modelling in the first place.\n",
        "\n",
        "## Where next?\n",
        "\n",
        "Congratulations, you have finished the tutorials – now you know how gensim works :-) To delve into more details, you can browse through the [API documentation](https://radimrehurek.com/gensim/apiref.html), see the [Wikipedia experiments](https://radimrehurek.com/gensim/wiki.html) or perhaps check out [distributed computing](https://radimrehurek.com/gensim/distributed.html) in gensim.\n",
        "\n",
        "Gensim is a fairly mature package that has been used successfully by many individuals and companies, both for rapid prototyping and in production. That doesn’t mean it’s perfect though:\n",
        "\n",
        "* there are parts that could be implemented more efficiently (in C, for example), or make better use of parallelism (multiple machines cores)\n",
        "* new algorithms are published all the time; help gensim keep up by [discussing them](http://groups.google.com/group/gensim) and [contributing code](https://github.com/piskvorky/gensim/wiki/Developer-page)\n",
        "* your **feedback is most welcome** and appreciated (and it’s not just the code!): [idea contributions](https://github.com/piskvorky/gensim/wiki/Ideas-&-Features-proposals), [bug reports](https://github.com/piskvorky/gensim/issues) or just consider contributing [user stories and general questions](http://groups.google.com/group/gensim/topics).\n",
        "Gensim has no ambition to become an all-encompassing framework, across all NLP (or even Machine Learning) subfields. Its mission is to help NLP practicioners try out popular topic modelling algorithms on large datasets easily, and to facilitate prototyping of new algorithms for researchers."
      ]
    },
    {
      "metadata": {
        "id": "jdKAaNw3VGtT",
        "colab_type": "code",
        "colab": {
          "autoexec": {
            "startup": false,
            "wait_interval": 0
          },
          "base_uri": "https://localhost:8080/",
          "height": 34
        },
        "outputId": "b7df32aa-ee9c-4e16-c737-94bb0654d0f7",
        "executionInfo": {
          "status": "ok",
          "timestamp": 1526111875626,
          "user_tz": -330,
          "elapsed": 916,
          "user": {
            "displayName": "Rony Roy",
            "photoUrl": "https://lh3.googleusercontent.com/a/default-user=s128",
            "userId": "111772801988052207421"
          }
        }
      },
      "cell_type": "code",
      "source": [
        "sims = index[vec_lsi] # perform a similarity query against the corpus\n",
        "print(list(enumerate(sims))) # print (document_number, document_similarity) 2-tuples"
      ],
      "execution_count": 23,
      "outputs": [
        {
          "output_type": "stream",
          "text": [
            "[(0, 0.998093), (1, 0.93748635), (2, 0.9984453), (3, 0.9865886), (4, 0.90755945), (5, -0.12416792), (6, -0.10639259), (7, -0.09879464), (8, 0.050041765)]\n"
          ],
          "name": "stdout"
        }
      ]
    },
    {
      "metadata": {
        "id": "XBSItApNKVRd",
        "colab_type": "code",
        "colab": {
          "autoexec": {
            "startup": false,
            "wait_interval": 0
          },
          "base_uri": "https://localhost:8080/",
          "height": 34
        },
        "outputId": "899d9baa-bd63-408d-9e21-c2c6f9039076",
        "executionInfo": {
          "status": "ok",
          "timestamp": 1526111881044,
          "user_tz": -330,
          "elapsed": 914,
          "user": {
            "displayName": "Rony Roy",
            "photoUrl": "https://lh3.googleusercontent.com/a/default-user=s128",
            "userId": "111772801988052207421"
          }
        }
      },
      "cell_type": "code",
      "source": [
        "sims = sorted(enumerate(sims), key=lambda item: -item[1]) #check the key funciton used for sorting...\n",
        "# the item's index...? :: yes\n",
        "print(sims) # print sorted (document number, similarity score) 2-tuples"
      ],
      "execution_count": 24,
      "outputs": [
        {
          "output_type": "stream",
          "text": [
            "[(5, -0.12416792), (6, -0.10639259), (7, -0.09879464), (8, 0.050041765), (4, 0.90755945), (1, 0.93748635), (3, 0.9865886), (0, 0.998093), (2, 0.9984453)]\n"
          ],
          "name": "stdout"
        }
      ]
    },
    {
      "metadata": {
        "id": "wX-ArKXeWd86",
        "colab_type": "code",
        "colab": {
          "autoexec": {
            "startup": false,
            "wait_interval": 0
          },
          "base_uri": "https://localhost:8080/",
          "height": 54
        },
        "outputId": "5e212e3a-5262-47a4-8b80-95073070cc18",
        "executionInfo": {
          "status": "ok",
          "timestamp": 1526111833882,
          "user_tz": -330,
          "elapsed": 910,
          "user": {
            "displayName": "Rony Roy",
            "photoUrl": "https://lh3.googleusercontent.com/a/default-user=s128",
            "userId": "111772801988052207421"
          }
        }
      },
      "cell_type": "code",
      "source": [
        "sims = sorted(enumerate(sims), key=lambda item: item[1]) #check the key funciton used for sorting...\n",
        "# the item's index...?\n",
        "print(sims) # print sorted (document number, similarity score) 2-tuples"
      ],
      "execution_count": 21,
      "outputs": [
        {
          "output_type": "stream",
          "text": [
            "[(1, (0, 0.998093)), (3, (1, 0.93748635)), (0, (2, 0.9984453)), (2, (3, 0.9865886)), (4, (4, 0.90755945)), (8, (5, -0.12416792)), (7, (6, -0.10639259)), (6, (7, -0.09879464)), (5, (8, 0.050041765))]\n"
          ],
          "name": "stdout"
        }
      ]
    },
    {
      "metadata": {
        "id": "BlPp_h8bU95M",
        "colab_type": "code",
        "colab": {
          "autoexec": {
            "startup": false,
            "wait_interval": 0
          },
          "base_uri": "https://localhost:8080/",
          "height": 54
        },
        "outputId": "66029407-7f53-48fc-99c5-684b75007999",
        "executionInfo": {
          "status": "ok",
          "timestamp": 1526111850538,
          "user_tz": -330,
          "elapsed": 1126,
          "user": {
            "displayName": "Rony Roy",
            "photoUrl": "https://lh3.googleusercontent.com/a/default-user=s128",
            "userId": "111772801988052207421"
          }
        }
      },
      "cell_type": "code",
      "source": [
        "sims = sorted(enumerate(sims), key=lambda item: item[0])\n",
        "print(sims) # print sorted (document number, similarity score) 2-tuples"
      ],
      "execution_count": 22,
      "outputs": [
        {
          "output_type": "stream",
          "text": [
            "[(0, (1, (0, 0.998093))), (1, (3, (1, 0.93748635))), (2, (0, (2, 0.9984453))), (3, (2, (3, 0.9865886))), (4, (4, (4, 0.90755945))), (5, (8, (5, -0.12416792))), (6, (7, (6, -0.10639259))), (7, (6, (7, -0.09879464))), (8, (5, (8, 0.050041765)))]\n"
          ],
          "name": "stdout"
        }
      ]
    },
    {
      "metadata": {
        "id": "Wo_xJZb_Xmk4",
        "colab_type": "code",
        "colab": {
          "autoexec": {
            "startup": false,
            "wait_interval": 0
          },
          "base_uri": "https://localhost:8080/",
          "height": 34
        },
        "outputId": "c78778b1-f9ca-4267-9bea-e9008ed72b48",
        "executionInfo": {
          "status": "ok",
          "timestamp": 1526112109304,
          "user_tz": -330,
          "elapsed": 909,
          "user": {
            "displayName": "Rony Roy",
            "photoUrl": "https://lh3.googleusercontent.com/a/default-user=s128",
            "userId": "111772801988052207421"
          }
        }
      },
      "cell_type": "code",
      "source": [
        "vec_lsi[0]"
      ],
      "execution_count": 27,
      "outputs": [
        {
          "output_type": "execute_result",
          "data": {
            "text/plain": [
              "(0, 0.461821004532715)"
            ]
          },
          "metadata": {
            "tags": []
          },
          "execution_count": 27
        }
      ]
    },
    {
      "metadata": {
        "id": "a5qQZ8tEXuLj",
        "colab_type": "code",
        "colab": {
          "autoexec": {
            "startup": false,
            "wait_interval": 0
          },
          "base_uri": "https://localhost:8080/",
          "height": 34
        },
        "outputId": "f4f9a899-7b69-4b8a-dbb3-686b88a1c64e",
        "executionInfo": {
          "status": "ok",
          "timestamp": 1526112127904,
          "user_tz": -330,
          "elapsed": 1037,
          "user": {
            "displayName": "Rony Roy",
            "photoUrl": "https://lh3.googleusercontent.com/a/default-user=s128",
            "userId": "111772801988052207421"
          }
        }
      },
      "cell_type": "code",
      "source": [
        "vec_bow[0]"
      ],
      "execution_count": 28,
      "outputs": [
        {
          "output_type": "execute_result",
          "data": {
            "text/plain": [
              "(0, 1)"
            ]
          },
          "metadata": {
            "tags": []
          },
          "execution_count": 28
        }
      ]
    },
    {
      "metadata": {
        "id": "cCyMCTWAX-M4",
        "colab_type": "code",
        "colab": {
          "autoexec": {
            "startup": false,
            "wait_interval": 0
          },
          "base_uri": "https://localhost:8080/",
          "height": 34
        },
        "outputId": "29b4e3c5-195a-4b5d-f0d9-d5e9248e15c1",
        "executionInfo": {
          "status": "ok",
          "timestamp": 1526112192637,
          "user_tz": -330,
          "elapsed": 925,
          "user": {
            "displayName": "Rony Roy",
            "photoUrl": "https://lh3.googleusercontent.com/a/default-user=s128",
            "userId": "111772801988052207421"
          }
        }
      },
      "cell_type": "code",
      "source": [
        "type(dictionary)"
      ],
      "execution_count": 29,
      "outputs": [
        {
          "output_type": "execute_result",
          "data": {
            "text/plain": [
              "gensim.corpora.dictionary.Dictionary"
            ]
          },
          "metadata": {
            "tags": []
          },
          "execution_count": 29
        }
      ]
    },
    {
      "metadata": {
        "id": "uuHypFEjYBwZ",
        "colab_type": "code",
        "colab": {
          "autoexec": {
            "startup": false,
            "wait_interval": 0
          },
          "base_uri": "https://localhost:8080/",
          "height": 162
        },
        "outputId": "d1e4d3d0-8fc0-4a9d-e310-4f86fce13a50",
        "executionInfo": {
          "status": "error",
          "timestamp": 1526112220404,
          "user_tz": -330,
          "elapsed": 923,
          "user": {
            "displayName": "Rony Roy",
            "photoUrl": "https://lh3.googleusercontent.com/a/default-user=s128",
            "userId": "111772801988052207421"
          }
        }
      },
      "cell_type": "code",
      "source": [
        "dictionary.id2token()"
      ],
      "execution_count": 30,
      "outputs": [
        {
          "output_type": "error",
          "ename": "TypeError",
          "evalue": "ignored",
          "traceback": [
            "\u001b[0;31m---------------------------------------------------------------------------\u001b[0m",
            "\u001b[0;31mTypeError\u001b[0m                                 Traceback (most recent call last)",
            "\u001b[0;32m<ipython-input-30-ae62683dd6e0>\u001b[0m in \u001b[0;36m<module>\u001b[0;34m()\u001b[0m\n\u001b[0;32m----> 1\u001b[0;31m \u001b[0mdictionary\u001b[0m\u001b[0;34m.\u001b[0m\u001b[0mid2token\u001b[0m\u001b[0;34m(\u001b[0m\u001b[0;34m)\u001b[0m\u001b[0;34m\u001b[0m\u001b[0m\n\u001b[0m",
            "\u001b[0;31mTypeError\u001b[0m: 'dict' object is not callable"
          ]
        }
      ]
    }
  ]
}